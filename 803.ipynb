{
 "cells": [
  {
   "cell_type": "code",
   "execution_count": 1,
   "metadata": {},
   "outputs": [],
   "source": [
    "import requests\n",
    "from bs4 import BeautifulSoup\n",
    "import json\n",
    "import time\n",
    "import os\n",
    "from datetime import datetime"
   ]
  },
  {
   "cell_type": "code",
   "execution_count": 8,
   "metadata": {},
   "outputs": [],
   "source": [
    "url = 'https://803.mnd.gov.tw/opd/med_info.php'\n",
    "r = requests.get(url)\n",
    "j = json.loads(r.text)"
   ]
  },
  {
   "cell_type": "code",
   "execution_count": 11,
   "metadata": {},
   "outputs": [
    {
     "data": {
      "text/plain": [
       "[{'INFO': {'title': '家醫科',\n",
       "   'subtitle': '家醫科11診',\n",
       "   'doctor': '廖俊正',\n",
       "   'num': '45'}},\n",
       " {'INFO': {'title': '家醫科',\n",
       "   'subtitle': '家醫科三高27診',\n",
       "   'doctor': '何欣恩',\n",
       "   'num': '27'}},\n",
       " {'INFO': {'title': '小兒科',\n",
       "   'subtitle': '小兒科25診',\n",
       "   'doctor': '單更軒',\n",
       "   'num': '15'}},\n",
       " {'INFO': {'title': '婦產科',\n",
       "   'subtitle': '婦產科26診',\n",
       "   'doctor': '歐陽九如',\n",
       "   'num': '10'}},\n",
       " {'INFO': {'title': '骨科', 'subtitle': '骨科01診', 'doctor': '林建中', 'num': '47'}},\n",
       " {'INFO': {'title': '骨科', 'subtitle': '骨科03診', 'doctor': '吳孟穎', 'num': '45'}},\n",
       " {'INFO': {'title': '神經外科',\n",
       "   'subtitle': '神經外科05診',\n",
       "   'doctor': '許師偉',\n",
       "   'num': '31'}},\n",
       " {'INFO': {'title': '泌尿２科',\n",
       "   'subtitle': '泌尿２科07診',\n",
       "   'doctor': '廖丞晞',\n",
       "   'num': '22'}},\n",
       " {'INFO': {'title': '眼科', 'subtitle': '眼科28診', 'doctor': '林哲民', 'num': '41'}},\n",
       " {'INFO': {'title': '神經內科',\n",
       "   'subtitle': '神經內科20診',\n",
       "   'doctor': '林瑛哲',\n",
       "   'num': '45'}},\n",
       " {'INFO': {'title': '身心醫學科',\n",
       "   'subtitle': '身心醫學科30診',\n",
       "   'doctor': '張國榮',\n",
       "   'num': '31'}},\n",
       " {'INFO': {'title': '整形外科',\n",
       "   'subtitle': '整形外科06診',\n",
       "   'doctor': '陳治有',\n",
       "   'num': '33'}},\n",
       " {'INFO': {'title': '腸胃２科',\n",
       "   'subtitle': '腸胃２科17診',\n",
       "   'doctor': '曾宇辰',\n",
       "   'num': '29'}},\n",
       " {'INFO': {'title': '腎臟內科',\n",
       "   'subtitle': '腎臟內科18診',\n",
       "   'doctor': '張立建',\n",
       "   'num': '39'}},\n",
       " {'INFO': {'title': '胸腔內科',\n",
       "   'subtitle': '胸腔內科16診',\n",
       "   'doctor': '宋立強',\n",
       "   'num': '28'}},\n",
       " {'INFO': {'title': '心臟內科',\n",
       "   'subtitle': '心臟內科19診',\n",
       "   'doctor': '張鋕鋒',\n",
       "   'num': '62'}},\n",
       " {'INFO': {'title': '2診打針換藥',\n",
       "   'subtitle': '2診打針換藥',\n",
       "   'doctor': '林建忠 吳孟穎',\n",
       "   'num': '16'}},\n",
       " {'INFO': {'title': '直腸外科',\n",
       "   'subtitle': '直腸外科08診',\n",
       "   'doctor': '岳德政',\n",
       "   'num': '24'}},\n",
       " {'INFO': {'title': '風濕免疫科',\n",
       "   'subtitle': '風濕免疫科15診',\n",
       "   'doctor': '楊登和',\n",
       "   'num': '68'}},\n",
       " {'INFO': {'title': '新陳代謝科',\n",
       "   'subtitle': '新陳代謝科21診',\n",
       "   'doctor': '莊宗儒',\n",
       "   'num': '46'}},\n",
       " {'INFO': {'title': '牙科',\n",
       "   'subtitle': '牙科22診',\n",
       "   'doctor': '林育緯 紀少庭',\n",
       "   'num': '15'}},\n",
       " {'INFO': {'title': ''}}]"
      ]
     },
     "execution_count": 11,
     "metadata": {},
     "output_type": "execute_result"
    }
   ],
   "source": [
    "j"
   ]
  },
  {
   "cell_type": "code",
   "execution_count": 14,
   "metadata": {},
   "outputs": [
    {
     "data": {
      "text/plain": [
       "{'家醫科': [{'subtitle': '家醫科11診', 'doctor': '廖俊正', 'num': '45'},\n",
       "  {'subtitle': '家醫科三高27診', 'doctor': '何欣恩', 'num': '27'}],\n",
       " '小兒科': [{'subtitle': '小兒科25診', 'doctor': '單更軒', 'num': '15'}],\n",
       " '婦產科': [{'subtitle': '婦產科26診', 'doctor': '歐陽九如', 'num': '10'}],\n",
       " '骨科': [{'subtitle': '骨科01診', 'doctor': '林建中', 'num': '47'},\n",
       "  {'subtitle': '骨科03診', 'doctor': '吳孟穎', 'num': '45'}],\n",
       " '神經外科': [{'subtitle': '神經外科05診', 'doctor': '許師偉', 'num': '31'}],\n",
       " '泌尿２科': [{'subtitle': '泌尿２科07診', 'doctor': '廖丞晞', 'num': '22'}],\n",
       " '眼科': [{'subtitle': '眼科28診', 'doctor': '林哲民', 'num': '41'}],\n",
       " '神經內科': [{'subtitle': '神經內科20診', 'doctor': '林瑛哲', 'num': '45'}],\n",
       " '身心醫學科': [{'subtitle': '身心醫學科30診', 'doctor': '張國榮', 'num': '31'}],\n",
       " '整形外科': [{'subtitle': '整形外科06診', 'doctor': '陳治有', 'num': '33'}],\n",
       " '腸胃２科': [{'subtitle': '腸胃２科17診', 'doctor': '曾宇辰', 'num': '29'}],\n",
       " '腎臟內科': [{'subtitle': '腎臟內科18診', 'doctor': '張立建', 'num': '39'}],\n",
       " '胸腔內科': [{'subtitle': '胸腔內科16診', 'doctor': '宋立強', 'num': '28'}],\n",
       " '心臟內科': [{'subtitle': '心臟內科19診', 'doctor': '張鋕鋒', 'num': '62'}],\n",
       " '2診打針換藥': [{'subtitle': '2診打針換藥', 'doctor': '林建忠 吳孟穎', 'num': '16'}],\n",
       " '直腸外科': [{'subtitle': '直腸外科08診', 'doctor': '岳德政', 'num': '24'}],\n",
       " '風濕免疫科': [{'subtitle': '風濕免疫科15診', 'doctor': '楊登和', 'num': '68'}],\n",
       " '新陳代謝科': [{'subtitle': '新陳代謝科21診', 'doctor': '莊宗儒', 'num': '46'}],\n",
       " '牙科': [{'subtitle': '牙科22診', 'doctor': '林育緯 紀少庭', 'num': '15'}]}"
      ]
     },
     "execution_count": 14,
     "metadata": {},
     "output_type": "execute_result"
    }
   ],
   "source": [
    "all_list = {}\n",
    "for i in j:\n",
    "    if (len(i['INFO']['title']) > 0):\n",
    "        all_list[i['INFO']['title']] = []\n",
    "for i in j:\n",
    "    if (len(i['INFO']['title']) > 0):\n",
    "        all_list[i['INFO']['title']].append({\n",
    "            'subtitle': i['INFO']['subtitle'],\n",
    "            'doctor': i['INFO']['doctor'],\n",
    "            'num': i['INFO']['num'],\n",
    "        })\n",
    "all_list"
   ]
  },
  {
   "cell_type": "code",
   "execution_count": 18,
   "metadata": {},
   "outputs": [
    {
     "data": {
      "text/plain": [
       "'1:家醫科\\r\\n2:小兒科\\r\\n3:婦產科\\r\\n4:骨科\\r\\n5:神經外科\\r\\n6:泌尿２科\\r\\n7:眼科\\r\\n8:神經內科\\r\\n9:身心醫學科\\r\\n10:整形外科\\r\\n11:腸胃２科\\r\\n12:腎臟內科\\r\\n13:胸腔內科\\r\\n14:心臟內科\\r\\n15:2診打針換藥\\r\\n16:直腸外科\\r\\n17:風濕免疫科\\r\\n18:新陳代謝科\\r\\n19:牙科\\r\\n'"
      ]
     },
     "execution_count": 18,
     "metadata": {},
     "output_type": "execute_result"
    }
   ],
   "source": [
    "text = \"\"\n",
    "i = 1\n",
    "for a,value in all_list.items():\n",
    "    text += str(i) + \":\" + str(a) + \"\\r\\n\"\n",
    "    i += 1\n",
    "if (len(all_list) == 0):\n",
    "    text = \"還未開始看診\"\n",
    "text"
   ]
  },
  {
   "cell_type": "code",
   "execution_count": 27,
   "metadata": {},
   "outputs": [],
   "source": [
    "part = 3\n",
    "if str(part).isnumeric():\n",
    "    try:\n",
    "        part = int(part)\n",
    "        part = list(all_list)[part-1]\n",
    "    except Exception as e:\n",
    "        print(e)\n",
    "        part = 'error'\n",
    "all_result = all_list[part]"
   ]
  },
  {
   "cell_type": "code",
   "execution_count": 28,
   "metadata": {},
   "outputs": [
    {
     "data": {
      "text/plain": [
       "'婦產科\\r\\n--------------------------------\\r\\n醫師:歐陽九如(婦產科26診)\\r\\n目前看診號次:10\\r\\n--------------------------------\\r\\n最後更新時間:2021/01/28 11:52'"
      ]
     },
     "execution_count": 28,
     "metadata": {},
     "output_type": "execute_result"
    }
   ],
   "source": [
    "_str = str(part) + '\\r\\n--------------------------------\\r\\n'\n",
    "            \n",
    "for r in all_result:\n",
    "    _str += '醫師:' + r['doctor'] + \"(\" + str(r['subtitle']) + \")\" +'\\r\\n'\n",
    "    _str += '目前看診號次:' + str(r['num']) + '\\r\\n--------------------------------\\r\\n'\n",
    "_str = _str + '最後更新時間:' + str(datetime.now().strftime(\"%Y/%m/%d %H:%M\"))\n",
    "pkl = {\n",
    "    'str': _str,\n",
    "    'time': time.time(),\n",
    "}\n",
    "_str"
   ]
  }
 ],
 "metadata": {
  "kernelspec": {
   "display_name": "Python 3",
   "language": "python",
   "name": "python3"
  },
  "language_info": {
   "codemirror_mode": {
    "name": "ipython",
    "version": 3
   },
   "file_extension": ".py",
   "mimetype": "text/x-python",
   "name": "python",
   "nbconvert_exporter": "python",
   "pygments_lexer": "ipython3",
   "version": "3.8.5"
  }
 },
 "nbformat": 4,
 "nbformat_minor": 4
}
