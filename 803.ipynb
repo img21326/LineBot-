{
 "cells": [
  {
   "cell_type": "code",
   "execution_count": 1,
   "metadata": {},
   "outputs": [],
   "source": [
    "import requests\n",
    "from bs4 import BeautifulSoup\n",
    "import json\n",
    "import time\n",
    "import os\n",
    "from datetime import datetime"
   ]
  },
  {
   "cell_type": "code",
   "execution_count": 3,
   "metadata": {},
   "outputs": [],
   "source": [
    "url = 'https://803.mnd.gov.tw/opd/med_info.php'\n",
    "r = requests.get(url)\n",
    "j = json.loads(r.text)"
   ]
  },
  {
   "cell_type": "code",
   "execution_count": 4,
   "metadata": {},
   "outputs": [
    {
     "data": {
      "text/plain": [
       "[{'INFO': {'title': '家醫科',\n",
       "   'subtitle': '家醫科11診',\n",
       "   'doctor': '蔡宣致',\n",
       "   'num': '75'}},\n",
       " {'INFO': {'title': '一般外科',\n",
       "   'subtitle': '一般外科06診',\n",
       "   'doctor': '王定偉',\n",
       "   'num': '32'}},\n",
       " {'INFO': {'title': '小兒科',\n",
       "   'subtitle': '小兒科25診',\n",
       "   'doctor': '賴立人',\n",
       "   'num': '14'}},\n",
       " {'INFO': {'title': '婦產科',\n",
       "   'subtitle': '婦產科26診',\n",
       "   'doctor': '陳光華',\n",
       "   'num': '22'}},\n",
       " {'INFO': {'title': '骨科', 'subtitle': '骨科01診', 'doctor': '林建中', 'num': '21'}},\n",
       " {'INFO': {'title': '泌尿２科',\n",
       "   'subtitle': '泌尿２科07診',\n",
       "   'doctor': '易志成',\n",
       "   'num': '46'}},\n",
       " {'INFO': {'title': '耳鼻喉科',\n",
       "   'subtitle': '耳鼻喉科09診',\n",
       "   'doctor': '賴文森',\n",
       "   'num': '33'}},\n",
       " {'INFO': {'title': '身心醫學科',\n",
       "   'subtitle': '身心醫學科30診',\n",
       "   'doctor': '趙家鈺',\n",
       "   'num': '32'}},\n",
       " {'INFO': {'title': '復健科',\n",
       "   'subtitle': '復健科36診',\n",
       "   'doctor': '周明賢',\n",
       "   'num': '40'}},\n",
       " {'INFO': {'title': '整形外科',\n",
       "   'subtitle': '整形外科08診',\n",
       "   'doctor': '江茂亮',\n",
       "   'num': '31'}},\n",
       " {'INFO': {'title': '腸胃２科',\n",
       "   'subtitle': '腸胃２科17診',\n",
       "   'doctor': '林孟熲',\n",
       "   'num': '39'}},\n",
       " {'INFO': {'title': '腎臟內科',\n",
       "   'subtitle': '腎臟內科21診',\n",
       "   'doctor': '廖昱凱',\n",
       "   'num': '11'}},\n",
       " {'INFO': {'title': '胸腔內科',\n",
       "   'subtitle': '胸腔內科16診',\n",
       "   'doctor': '陳冠良',\n",
       "   'num': '35'}},\n",
       " {'INFO': {'title': '心臟內科',\n",
       "   'subtitle': '心臟內科18診',\n",
       "   'doctor': '張鋕鋒',\n",
       "   'num': '43'}},\n",
       " {'INFO': {'title': '心臟內科',\n",
       "   'subtitle': '心臟內科19診',\n",
       "   'doctor': '鍾國屏',\n",
       "   'num': '41'}},\n",
       " {'INFO': {'title': '血液腫瘤科',\n",
       "   'subtitle': '血液腫瘤科15診',\n",
       "   'doctor': '陳立民',\n",
       "   'num': '22'}},\n",
       " {'INFO': {'title': '骨科打針換藥',\n",
       "   'subtitle': '骨科打針換藥',\n",
       "   'doctor': '林建中',\n",
       "   'num': '8'}},\n",
       " {'INFO': {'title': '胸腔外科',\n",
       "   'subtitle': '胸腔外科05診',\n",
       "   'doctor': '謝志明',\n",
       "   'num': '7'}},\n",
       " {'INFO': {'title': '牙科', 'subtitle': '牙科22診', 'doctor': '裘雲揚', 'num': '40'}},\n",
       " {'INFO': {'title': ''}}]"
      ]
     },
     "execution_count": 4,
     "metadata": {},
     "output_type": "execute_result"
    }
   ],
   "source": [
    "j"
   ]
  },
  {
   "cell_type": "code",
   "execution_count": 6,
   "metadata": {},
   "outputs": [
    {
     "data": {
      "text/plain": [
       "{'家醫科': [{'subtitle': '家醫科11診', 'doctor': '蔡宣致', 'num': '75'}],\n",
       " '一般外科': [{'subtitle': '一般外科06診', 'doctor': '王定偉', 'num': '32'}],\n",
       " '小兒科': [{'subtitle': '小兒科25診', 'doctor': '賴立人', 'num': '14'}],\n",
       " '婦產科': [{'subtitle': '婦產科26診', 'doctor': '陳光華', 'num': '22'}],\n",
       " '骨科': [{'subtitle': '骨科01診', 'doctor': '林建中', 'num': '21'}],\n",
       " '泌尿２科': [{'subtitle': '泌尿２科07診', 'doctor': '易志成', 'num': '46'}],\n",
       " '耳鼻喉科': [{'subtitle': '耳鼻喉科09診', 'doctor': '賴文森', 'num': '33'}],\n",
       " '身心醫學科': [{'subtitle': '身心醫學科30診', 'doctor': '趙家鈺', 'num': '32'}],\n",
       " '復健科': [{'subtitle': '復健科36診', 'doctor': '周明賢', 'num': '40'}],\n",
       " '整形外科': [{'subtitle': '整形外科08診', 'doctor': '江茂亮', 'num': '31'}],\n",
       " '腸胃２科': [{'subtitle': '腸胃２科17診', 'doctor': '林孟熲', 'num': '39'}],\n",
       " '腎臟內科': [{'subtitle': '腎臟內科21診', 'doctor': '廖昱凱', 'num': '11'}],\n",
       " '胸腔內科': [{'subtitle': '胸腔內科16診', 'doctor': '陳冠良', 'num': '35'}],\n",
       " '心臟內科': [{'subtitle': '心臟內科18診', 'doctor': '張鋕鋒', 'num': '43'},\n",
       "  {'subtitle': '心臟內科19診', 'doctor': '鍾國屏', 'num': '41'}],\n",
       " '血液腫瘤科': [{'subtitle': '血液腫瘤科15診', 'doctor': '陳立民', 'num': '22'}],\n",
       " '骨科打針換藥': [{'subtitle': '骨科打針換藥', 'doctor': '林建中', 'num': '8'}],\n",
       " '胸腔外科': [{'subtitle': '胸腔外科05診', 'doctor': '謝志明', 'num': '7'}],\n",
       " '牙科': [{'subtitle': '牙科22診', 'doctor': '裘雲揚', 'num': '40'}]}"
      ]
     },
     "execution_count": 6,
     "metadata": {},
     "output_type": "execute_result"
    }
   ],
   "source": [
    "all_list = {}\n",
    "for i in j:\n",
    "    if (len(i['INFO']['title']) > 0):\n",
    "        all_list[i['INFO']['title']] = []\n",
    "for i in j:\n",
    "    if (len(i['INFO']['title']) > 0):\n",
    "        all_list[i['INFO']['title']].append({\n",
    "            'subtitle': i['INFO']['subtitle'],\n",
    "            'doctor': i['INFO']['doctor'],\n",
    "            'num': i['INFO']['num'],\n",
    "        })\n",
    "all_list"
   ]
  },
  {
   "cell_type": "code",
   "execution_count": 18,
   "metadata": {},
   "outputs": [
    {
     "data": {
      "text/plain": [
       "'1:家醫科\\r\\n2:小兒科\\r\\n3:婦產科\\r\\n4:骨科\\r\\n5:神經外科\\r\\n6:泌尿２科\\r\\n7:眼科\\r\\n8:神經內科\\r\\n9:身心醫學科\\r\\n10:整形外科\\r\\n11:腸胃２科\\r\\n12:腎臟內科\\r\\n13:胸腔內科\\r\\n14:心臟內科\\r\\n15:2診打針換藥\\r\\n16:直腸外科\\r\\n17:風濕免疫科\\r\\n18:新陳代謝科\\r\\n19:牙科\\r\\n'"
      ]
     },
     "execution_count": 18,
     "metadata": {},
     "output_type": "execute_result"
    }
   ],
   "source": [
    "text = \"\"\n",
    "i = 1\n",
    "for a,value in all_list.items():\n",
    "    text += str(i) + \":\" + str(a) + \"\\r\\n\"\n",
    "    i += 1\n",
    "if (len(all_list) == 0):\n",
    "    text = \"還未開始看診\"\n",
    "text"
   ]
  },
  {
   "cell_type": "code",
   "execution_count": 7,
   "metadata": {},
   "outputs": [],
   "source": [
    "part = '心臟內科'\n",
    "if str(part).isnumeric():\n",
    "    try:\n",
    "        part = int(part)\n",
    "        part = list(all_list)[part-1]\n",
    "    except Exception as e:\n",
    "        print(e)\n",
    "        part = 'error'\n",
    "all_result = all_list[part]"
   ]
  },
  {
   "cell_type": "code",
   "execution_count": 8,
   "metadata": {},
   "outputs": [
    {
     "data": {
      "text/plain": [
       "'心臟內科\\r\\n--------------------------------\\r\\n醫師:張鋕鋒(心臟內科18診)\\r\\n目前看診號次:43\\r\\n--------------------------------\\r\\n醫師:鍾國屏(心臟內科19診)\\r\\n目前看診號次:41\\r\\n--------------------------------\\r\\n最後更新時間:2021/01/29 11:34'"
      ]
     },
     "execution_count": 8,
     "metadata": {},
     "output_type": "execute_result"
    }
   ],
   "source": [
    "_str = str(part) + '\\r\\n--------------------------------\\r\\n'\n",
    "            \n",
    "for r in all_result:\n",
    "    _str += '醫師:' + r['doctor'] + \"(\" + str(r['subtitle']) + \")\" +'\\r\\n'\n",
    "    _str += '目前看診號次:' + str(r['num']) + '\\r\\n--------------------------------\\r\\n'\n",
    "_str = _str + '最後更新時間:' + str(datetime.now().strftime(\"%Y/%m/%d %H:%M\"))\n",
    "pkl = {\n",
    "    'str': _str,\n",
    "    'time': time.time(),\n",
    "}\n",
    "_str"
   ]
  }
 ],
 "metadata": {
  "kernelspec": {
   "display_name": "Python 3",
   "language": "python",
   "name": "python3"
  },
  "language_info": {
   "codemirror_mode": {
    "name": "ipython",
    "version": 3
   },
   "file_extension": ".py",
   "mimetype": "text/x-python",
   "name": "python",
   "nbconvert_exporter": "python",
   "pygments_lexer": "ipython3",
   "version": "3.8.5"
  }
 },
 "nbformat": 4,
 "nbformat_minor": 4
}
