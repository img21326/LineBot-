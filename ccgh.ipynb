{
 "cells": [
  {
   "cell_type": "code",
   "execution_count": 4,
   "id": "criminal-tradition",
   "metadata": {},
   "outputs": [],
   "source": [
    "import requests\n",
    "from bs4 import BeautifulSoup\n",
    "import json\n",
    "import time\n",
    "import os\n",
    "from datetime import datetime"
   ]
  },
  {
   "cell_type": "code",
   "execution_count": 5,
   "id": "geological-kazakhstan",
   "metadata": {},
   "outputs": [],
   "source": [
    "url = 'http://api.ccgh.com.tw/api/GetClinicMainList/GetClinicMainData'\n",
    "r = requests.get(url)\n",
    "j = json.loads(r.text)"
   ]
  },
  {
   "cell_type": "code",
   "execution_count": 10,
   "id": "varied-anaheim",
   "metadata": {},
   "outputs": [
    {
     "data": {
      "text/plain": [
       "200"
      ]
     },
     "execution_count": 10,
     "metadata": {},
     "output_type": "execute_result"
    }
   ],
   "source": [
    "r.status_code"
   ]
  },
  {
   "cell_type": "code",
   "execution_count": 14,
   "id": "together-engineering",
   "metadata": {},
   "outputs": [
    {
     "data": {
      "text/plain": [
       "{'婦產科': [{'doctor': '王國華',\n",
       "   'NotYetNumber': 23,\n",
       "   'FinishNumber': 9,\n",
       "   'LastNumberNew': 35},\n",
       "  {'doctor': '謝保群',\n",
       "   'NotYetNumber': 34,\n",
       "   'FinishNumber': 2,\n",
       "   'LastNumberNew': 13}],\n",
       " '兒科': [{'doctor': '呂坤家',\n",
       "   'NotYetNumber': 11,\n",
       "   'FinishNumber': 6,\n",
       "   'LastNumberNew': 25}],\n",
       " '耳鼻喉科': [{'doctor': '郭哲宏',\n",
       "   'NotYetNumber': 26,\n",
       "   'FinishNumber': 4,\n",
       "   'LastNumberNew': 7}],\n",
       " '神經內科': [{'doctor': '葉守正',\n",
       "   'NotYetNumber': 24,\n",
       "   'FinishNumber': 50,\n",
       "   'LastNumberNew': 86},\n",
       "  {'doctor': '謝良博',\n",
       "   'NotYetNumber': 52,\n",
       "   'FinishNumber': 13,\n",
       "   'LastNumberNew': 13}],\n",
       " '乳房醫學': [{'doctor': '陳駿逸',\n",
       "   'NotYetNumber': 2,\n",
       "   'FinishNumber': 4,\n",
       "   'LastNumberNew': 8},\n",
       "  {'doctor': '葉大成',\n",
       "   'NotYetNumber': 64,\n",
       "   'FinishNumber': 1,\n",
       "   'LastNumberNew': 503}],\n",
       " '身心內科': [{'doctor': '陳怡如',\n",
       "   'NotYetNumber': 12,\n",
       "   'FinishNumber': 4,\n",
       "   'LastNumberNew': 7}],\n",
       " '一般外科': [{'doctor': '顧永隆',\n",
       "   'NotYetNumber': 14,\n",
       "   'FinishNumber': 5,\n",
       "   'LastNumberNew': 35}],\n",
       " '泌尿科': [{'doctor': '石宏文',\n",
       "   'NotYetNumber': 32,\n",
       "   'FinishNumber': 15,\n",
       "   'LastNumberNew': 24}],\n",
       " '整型外科': [{'doctor': '魏經岳',\n",
       "   'NotYetNumber': 6,\n",
       "   'FinishNumber': 6,\n",
       "   'LastNumberNew': 22}],\n",
       " '神經外科': [{'doctor': '陳勝庸',\n",
       "   'NotYetNumber': 26,\n",
       "   'FinishNumber': 15,\n",
       "   'LastNumberNew': 62}],\n",
       " '骨科': [{'doctor': '黃泰榮',\n",
       "   'NotYetNumber': 67,\n",
       "   'FinishNumber': 16,\n",
       "   'LastNumberNew': 28}],\n",
       " '血液科': [{'doctor': '陳仁亮',\n",
       "   'NotYetNumber': 11,\n",
       "   'FinishNumber': 2,\n",
       "   'LastNumberNew': 25}],\n",
       " '胃腸肝膽': [{'doctor': '蘇秀梅',\n",
       "   'NotYetNumber': 15,\n",
       "   'FinishNumber': 8,\n",
       "   'LastNumberNew': 32},\n",
       "  {'doctor': '辛政憲',\n",
       "   'NotYetNumber': 45,\n",
       "   'FinishNumber': 11,\n",
       "   'LastNumberNew': 12}],\n",
       " '胸腔內科': [{'doctor': '劉杜鎮',\n",
       "   'NotYetNumber': 21,\n",
       "   'FinishNumber': 14,\n",
       "   'LastNumberNew': 32}],\n",
       " '腎臟科': [{'doctor': '高清添',\n",
       "   'NotYetNumber': 31,\n",
       "   'FinishNumber': 12,\n",
       "   'LastNumberNew': 12}],\n",
       " '心臟血管': [{'doctor': '黃士鏗',\n",
       "   'NotYetNumber': 34,\n",
       "   'FinishNumber': 16,\n",
       "   'LastNumberNew': 25},\n",
       "  {'doctor': '李篤宜',\n",
       "   'NotYetNumber': 23,\n",
       "   'FinishNumber': 11,\n",
       "   'LastNumberNew': 35}],\n",
       " '內分泌新': [{'doctor': '黃怡文',\n",
       "   'NotYetNumber': 12,\n",
       "   'FinishNumber': 8,\n",
       "   'LastNumberNew': 32}]}"
      ]
     },
     "execution_count": 14,
     "metadata": {},
     "output_type": "execute_result"
    }
   ],
   "source": [
    "all_list = {}\n",
    "for a in j:\n",
    "    all_list[a['Clinic']] = []\n",
    "for a in j:\n",
    "    all_list[a['Clinic']].append(\n",
    "    {\n",
    "        'doctor': a['DoctorName'],\n",
    "        'NotYetNumber': a['NotYetNumber'],\n",
    "        'FinishNumber': a['FinishNumber'],\n",
    "        'LastNumberNew': a['LastNumberNew'],\n",
    "        'doctor': a['DoctorName'],\n",
    "    })\n",
    "all_list"
   ]
  },
  {
   "cell_type": "code",
   "execution_count": 17,
   "id": "tropical-doctrine",
   "metadata": {},
   "outputs": [
    {
     "data": {
      "text/plain": [
       "'1:胃腸肝膽\\r\\n2:胃腸肝膽\\r\\n3:胃腸肝膽\\r\\n4:胃腸肝膽\\r\\n5:胃腸肝膽\\r\\n6:胃腸肝膽\\r\\n7:胃腸肝膽\\r\\n8:胃腸肝膽\\r\\n9:胃腸肝膽\\r\\n10:胃腸肝膽\\r\\n11:胃腸肝膽\\r\\n12:胃腸肝膽\\r\\n13:胃腸肝膽\\r\\n14:胃腸肝膽\\r\\n15:胃腸肝膽\\r\\n16:胃腸肝膽\\r\\n17:胃腸肝膽\\r\\n'"
      ]
     },
     "execution_count": 17,
     "metadata": {},
     "output_type": "execute_result"
    }
   ],
   "source": [
    "i=1\n",
    "text=''\n",
    "for x,y in all_list.items():\n",
    "    text += str(i) + \":\" + str(a['Clinic']) + \"\\r\\n\"\n",
    "    i += 1\n",
    "text"
   ]
  },
  {
   "cell_type": "code",
   "execution_count": 18,
   "id": "moral-kennedy",
   "metadata": {},
   "outputs": [
    {
     "name": "stdout",
     "output_type": "stream",
     "text": [
      "{'doctor': '黃士鏗', 'NotYetNumber': 34, 'FinishNumber': 16, 'LastNumberNew': 25}\n",
      "{'doctor': '李篤宜', 'NotYetNumber': 23, 'FinishNumber': 11, 'LastNumberNew': 35}\n"
     ]
    }
   ],
   "source": [
    "for i in all_list['心臟血管']:\n",
    "    print(i)"
   ]
  }
 ],
 "metadata": {
  "kernelspec": {
   "display_name": "Python 3",
   "language": "python",
   "name": "python3"
  },
  "language_info": {
   "codemirror_mode": {
    "name": "ipython",
    "version": 3
   },
   "file_extension": ".py",
   "mimetype": "text/x-python",
   "name": "python",
   "nbconvert_exporter": "python",
   "pygments_lexer": "ipython3",
   "version": "3.9.1"
  }
 },
 "nbformat": 4,
 "nbformat_minor": 5
}
